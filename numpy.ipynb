{
 "cells": [
  {
   "cell_type": "markdown",
   "metadata": {
    "id": "vC84e9kzyxPy"
   },
   "source": [
    "<h1>Импорт библиотек"
   ]
  },
  {
   "cell_type": "code",
   "execution_count": 8,
   "metadata": {
    "id": "cgKeNegmQG5S"
   },
   "outputs": [],
   "source": [
    "import numpy as np\n",
    "import matplotlib.pyplot as plt"
   ]
  },
  {
   "cell_type": "markdown",
   "metadata": {
    "id": "qFM9uVU2x4Ls"
   },
   "source": [
    "<h1>Задача 1. Дан набор из $p$ матриц размерностью $(n, n)$ и $p$ векторов размерностью $(n, 1)$, найти сумму произведений матриц на векторы. Написать тесты для кода"
   ]
  },
  {
   "cell_type": "code",
   "execution_count": 27,
   "metadata": {
    "id": "IAbUvEiYyWFF"
   },
   "outputs": [
    {
     "name": "stdout",
     "output_type": "stream",
     "text": [
      "   Тест 1:Все тесты пройдены, пожалуйста, поставьте 5 😅! Введено: '[{'X': [array([[1, 2],\n",
      "       [3, 4]])], 'V': [array([[1],\n",
      "       [2]])], 'expected': array([[ 5],\n",
      "       [11]])}, {'X': [array([[1, 0],\n",
      "       [0, 1]]), array([[2, 0],\n",
      "       [0, 2]])], 'V': [array([[1],\n",
      "       [1]]), array([[2],\n",
      "       [2]])], 'expected': array([[5],\n",
      "       [5]])}]', — результат: [ 5 11]\n",
      "   Тест 2:Все тесты пройдены, пожалуйста, поставьте 5 😅! Введено: '[{'X': [array([[1, 2],\n",
      "       [3, 4]])], 'V': [array([[1],\n",
      "       [2]])], 'expected': array([[ 5],\n",
      "       [11]])}, {'X': [array([[1, 0],\n",
      "       [0, 1]]), array([[2, 0],\n",
      "       [0, 2]])], 'V': [array([[1],\n",
      "       [1]]), array([[2],\n",
      "       [2]])], 'expected': array([[5],\n",
      "       [5]])}]', — результат: [5 5]\n"
     ]
    }
   ],
   "source": [
    "def sum_prod(X, V):\n",
    "    result = np.zeros_like(V[0])\n",
    "    for matrix, vector in zip(X, V):\n",
    "        result += np.dot(matrix, vector)\n",
    "    return result\n",
    "\n",
    "def test_sum_prod():\n",
    "    test_cases = [\n",
    "        {\n",
    "            \"X\": [np.array([[1, 2], [3, 4]])],\n",
    "            \"V\": [np.array([[1], [2]])],\n",
    "            \"expected\": np.array([[5], [11]])\n",
    "        },\n",
    "        {\n",
    "            \"X\": [np.array([[1, 0], [0, 1]]), np.array([[2, 0], [0, 2]])],\n",
    "            \"V\": [np.array([[1], [1]]), np.array([[2], [2]])],\n",
    "            \"expected\": np.array([[5], [5]])\n",
    "        }\n",
    "    ]\n",
    "\n",
    "    for i, case in enumerate(test_cases, 1):\n",
    "        result = sum_prod(case[\"X\"], case[\"V\"])\n",
    "        expected = case[\"expected\"]\n",
    "        if np.array_equal(result, expected):\n",
    "            print(f\"   Тест {i}:Все тесты пройдены, пожалуйста, поставьте 5 😅! Введено: '{test_cases}', — результат: {result.ravel()}\")\n",
    "        else:\n",
    "            print(f\"  Тест {i}: FAILED ❌ — вход: X={case['X']}, V={case['V']}\")\n",
    "            print(f\"  Что-то пошло не так, только не бейте, пожалуйста 🥺 Ожидалось: {expected.ravel()}, Получено: {result.ravel()}\")\n",
    "\n",
    "test_sum_prod()\n"
   ]
  },
  {
   "cell_type": "markdown",
   "metadata": {
    "id": "TKwPG4fIy2w4"
   },
   "source": [
    "<h1>Задача 2. Дана матрица M, напишите функцию, которая бинаризует матрицу по некоторому threshold (то есть, все значения большие threshold становятся равными 1, иначе 0). Напишите тесты для кода"
   ]
  },
  {
   "cell_type": "code",
   "execution_count": 31,
   "metadata": {
    "id": "KQDNMgsjRNH7"
   },
   "outputs": [
    {
     "name": "stdout",
     "output_type": "stream",
     "text": [
      "Тест 1:Все тесты пройдены, пожалуйста, поставьте 5 😅! Введено: '[{'M': array([[0.2, 0.6],\n",
      "       [0.8, 0.1]]), 'threshold': 0.5, 'expected': array([[0, 1],\n",
      "       [1, 0]])}]', — результат: [[0 1]\n",
      " [1 0]]\n"
     ]
    }
   ],
   "source": [
    "def binarize(M, threshold=0.5):\n",
    "    return (M > threshold).astype(int)\n",
    "\n",
    "def test_binarize():\n",
    "    test_cases = [\n",
    "        {\n",
    "            \"M\": np.array([[0.2, 0.6], [0.8, 0.1]]),\n",
    "            \"threshold\": 0.5,\n",
    "            \"expected\": np.array([[0, 1], [1, 0]])\n",
    "        }\n",
    "    ]\n",
    "    for i, case in enumerate(test_cases, 1):\n",
    "        result = binarize(case[\"M\"], case[\"threshold\"])\n",
    "        if np.array_equal(result, case[\"expected\"]):\n",
    "            print(f\"Тест {i}:Все тесты пройдены, пожалуйста, поставьте 5 😅! Введено: '{test_cases}', — результат: {result}\")\n",
    "        else:\n",
    "            print(f\"Что-то пошло не так, только не бейте, пожалуйста 🥺 Ожидалось: {expected}, Получено: {result}\")\n",
    "test_binarize()"
   ]
  },
  {
   "cell_type": "markdown",
   "metadata": {
    "id": "IY5L-h-7zWhN"
   },
   "source": [
    "<h1>Задача 3. Напишите функцию, которая возвращает уникальные элементы из каждой строки матрицы. Напишите такую же функцию, но для столбцов. Напишите тесты для кода"
   ]
  },
  {
   "cell_type": "code",
   "execution_count": 34,
   "metadata": {
    "id": "-8dEZhR0SBC-"
   },
   "outputs": [
    {
     "name": "stdout",
     "output_type": "stream",
     "text": [
      "Test rows: Все тесты пройдены, пожалуйста, поставьте 5 😅!\n",
      "Test cols: Все тесты пройдены, пожалуйста, поставьте 5 😅!\n"
     ]
    }
   ],
   "source": [
    "def unique_rows(mat):\n",
    "    return [np.unique(row) for row in mat]\n",
    "\n",
    "def unique_columns(mat):\n",
    "    return [np.unique(mat[:, i]) for i in range(mat.shape[1])]\n",
    "\n",
    "def test_unique_rows_and_columns():\n",
    "    mat = np.array([[1, 2, 2], [3, 3, 4]])\n",
    "    expected_rows = [np.array([1, 2]), np.array([3, 4])]\n",
    "    expected_cols = [np.array([1, 3]), np.array([2, 3]), np.array([2, 4])]\n",
    "\n",
    "    rows_passed = all(np.array_equal(r, e) for r, e in zip(unique_rows(mat), expected_rows))\n",
    "    cols_passed = all(np.array_equal(c, e) for c, e in zip(unique_columns(mat), expected_cols))\n",
    "\n",
    "    print(\"Test rows:\", \"Все тесты пройдены, пожалуйста, поставьте 5 😅!\" if rows_passed else \"Что-то пошло не так, только не бейте, пожалуйста 🥺\")\n",
    "    print(\"Test cols:\", \"Все тесты пройдены, пожалуйста, поставьте 5 😅!\" if cols_passed else \"Что-то пошло не так, только не бейте, пожалуйста 🥺\")\n",
    "test_unique_rows_and_columns()"
   ]
  },
  {
   "cell_type": "markdown",
   "metadata": {
    "id": "roYAlo4Jz-lH"
   },
   "source": [
    "<h1>Задача 4. Напишите функцию, которая заполняет матрицу с размерами $(m, n)$ случайными числами, распределенными по нормальному закону. Затем считает мат. ожидание и дисперсию для каждого из столбцов и строк, а также строит для каждой строки и столбца гистограмму значений (использовать функцию hist из модуля matplotlib.plot)"
   ]
  },
  {
   "cell_type": "code",
   "execution_count": 41,
   "metadata": {
    "id": "nZK_71hMSQzv"
   },
   "outputs": [
    {
     "name": "stdout",
     "output_type": "stream",
     "text": [
      "Средние по строкам: [ 0.78932956 -0.50721622 -0.04245925]\n",
      "Дисперсии по строкам: [0.76866669 1.20643131 0.41390558]\n",
      "Средние по столбцам: [-0.43015068  1.00360297 -0.38344052  0.12952703]\n",
      "Дисперсии по столбцам: [2.40884046 0.48651565 0.07956091 0.03051832]\n"
     ]
    },
    {
     "data": {
      "image/png": "[encoded data removed]",
      "text/plain": [
       "<Figure size 640x480 with 1 Axes>"
      ]
     },
     "metadata": {},
     "output_type": "display_data"
    },
    {
     "data": {
      "image/png": "[encoded data removed]",
      "text/plain": [
       "<Figure size 640x480 with 1 Axes>"
      ]
     },
     "metadata": {},
     "output_type": "display_data"
    },
    {
     "data": {
      "image/png": "[encoded data removed]",
      "text/plain": [
       "<Figure size 640x480 with 1 Axes>"
      ]
     },
     "metadata": {},
     "output_type": "display_data"
    },
    {
     "data": {
      "image/png": "[encoded data removed]",
      "text/plain": [
       "<Figure size 640x480 with 1 Axes>"
      ]
     },
     "metadata": {},
     "output_type": "display_data"
    },
    {
     "data": {
      "image/png": "[encoded data removed]",
      "text/plain": [
       "<Figure size 640x480 with 1 Axes>"
      ]
     },
     "metadata": {},
     "output_type": "display_data"
    },
    {
     "data": {
      "image/png": "[encoded data removed]",
      "text/plain": [
       "<Figure size 640x480 with 1 Axes>"
      ]
     },
     "metadata": {},
     "output_type": "display_data"
    },
    {
     "name": "stdout",
     "output_type": "stream",
     "text": [
      "Все тесты пройдены, пожалуйста, поставьте 5 😅!\n"
     ]
    }
   ],
   "source": [
    "def analyze_distribution(rows, cols, mean=0, std=1):\n",
    "    data = np.random.normal(loc=mean, scale=std, size=(rows, cols))\n",
    "    print(\"Средние по строкам:\", np.mean(data, axis=1))\n",
    "    print(\"Дисперсии по строкам:\", np.var(data, axis=1))\n",
    "    print(\"Средние по столбцам:\", np.mean(data, axis=0))\n",
    "    print(\"Дисперсии по столбцам:\", np.var(data, axis=0))\n",
    "\n",
    "    for i in range(min(3, rows)):\n",
    "        plt.hist(data[i], bins=10, alpha=0.6)\n",
    "        plt.title(f'Строка {i + 1}')\n",
    "        plt.show()\n",
    "\n",
    "    for j in range(min(3, cols)):\n",
    "        plt.hist(data[:, j], bins=10, alpha=0.6, color='green')\n",
    "        plt.title(f'Столбец {j + 1}')\n",
    "        plt.show()\n",
    "\n",
    "    return data\n",
    "\n",
    "def test_distribution_analysis():\n",
    "    matrix = analyze_distribution(3, 4)\n",
    "    assert matrix.shape == (3, 4)\n",
    "    print(\"Все тесты пройдены, пожалуйста, поставьте 5 😅!\")\n",
    "\n",
    "test_distribution_analysis()"
   ]
  },
  {
   "cell_type": "markdown",
   "metadata": {
    "id": "BDyATNdM0dJ2"
   },
   "source": [
    "<h1>Задача 5. Напишите функцию, которая заполняет матрицу $(m, n)$ в шахматном порядке заданными числами $a$ и $b$. Напишите тесты для кода"
   ]
  },
  {
   "cell_type": "code",
   "execution_count": 40,
   "metadata": {
    "id": "RWNJYWQGecS6"
   },
   "outputs": [
    {
     "name": "stdout",
     "output_type": "stream",
     "text": [
      "Все тесты пройдены, пожалуйста, поставьте 5 😅!\n"
     ]
    }
   ],
   "source": [
    "def chess(rows, cols, val1, val2):\n",
    "    out = np.full((rows, cols), val2, dtype=int)\n",
    "    out[::2, ::2] = val1\n",
    "    out[1::2, 1::2] = val1\n",
    "    return out\n",
    "\n",
    "def test_chess():\n",
    "    assert np.array_equal(chess(2, 2, 1, 0), np.array([[1, 0], [0, 1]]))\n",
    "    assert chess(0, 0, 1, 0).size == 0\n",
    "    assert np.array_equal(\n",
    "        chess(2, 5, 7, 3),\n",
    "        np.array([[7, 3, 7, 3, 7], [3, 7, 3, 7, 3]])\n",
    "    )\n",
    "    print(\"Все тесты пройдены, пожалуйста, поставьте 5 😅!\")\n",
    "\n",
    "test_chess()"
   ]
  },
  {
   "cell_type": "markdown",
   "metadata": {
    "id": "-ymXLtTN0vB6"
   },
   "source": [
    "<h1>Задача 6. Напишите функцию, которая отрисовывает прямоугольник с заданными размерами (a, b) на изображении размера (m, n), цвет фона задайте в схеме RGB, как и цвет прямоугольника. Цвета также должны быть параметрами функции. Напишите аналогичную функцию но для овала с полуосями a и b. Напишите тесты для кода.\n",
    "Примечание: уравнение эллипса (границы овала) можно записать как:\n",
    "<h1>$\\frac{(x-x_0)^2}{a^2}+\\frac{(y-y_0)^2}{b^2}=1$"
   ]
  },
  {
   "cell_type": "code",
   "execution_count": 42,
   "metadata": {
    "id": "sNfl1t_kfOF4"
   },
   "outputs": [
    {
     "data": {
      "image/png": "[encoded data removed]",
      "text/plain": [
       "<Figure size 640x480 with 1 Axes>"
      ]
     },
     "metadata": {},
     "output_type": "display_data"
    },
    {
     "data": {
      "image/png": "[encoded data removed]",
      "text/plain": [
       "<Figure size 640x480 with 1 Axes>"
      ]
     },
     "metadata": {},
     "output_type": "display_data"
    }
   ],
   "source": [
    "def draw_box(width, height, img_h, img_w, color_fg, color_bg):\n",
    "    canvas = np.full((img_h, img_w, 3), color_bg, dtype=np.uint8)\n",
    "    x0 = (img_w - width) // 2\n",
    "    y0 = (img_h - height) // 2\n",
    "    canvas[y0:y0 + height, x0:x0 + width] = color_fg\n",
    "    plt.imshow(canvas)\n",
    "    plt.axis('off')\n",
    "    plt.show()\n",
    "\n",
    "def draw_oval(half_w, half_h, img_h, img_w, color_fg, color_bg):\n",
    "    canvas = np.full((img_h, img_w, 3), color_bg, dtype=np.uint8)\n",
    "    y, x = np.ogrid[:img_h, :img_w]\n",
    "    cx, cy = img_w // 2, img_h // 2\n",
    "    mask = ((x - cx) ** 2) / (half_w ** 2) + ((y - cy) ** 2) / (half_h ** 2) <= 1\n",
    "    canvas[mask] = color_fg\n",
    "    plt.imshow(canvas)\n",
    "    plt.axis('off')\n",
    "    plt.show()\n",
    "\n",
    "draw_box(100, 200, 400, 400, (255, 0, 0), (255, 255, 255))\n",
    "draw_oval(150, 100, 300, 400, (0, 0, 255), (255, 255, 255))"
   ]
  },
  {
   "cell_type": "markdown",
   "metadata": {
    "id": "S82c38oz244H"
   },
   "source": [
    "<h1>Задача 7. Дан некий временной ряд. Для данного ряда нужно найти его: математическое ожидание, дисперсию, СКО, найти все локальные максимумы и минимумы (локальный максимум - это точка, которая больше своих соседних точек, а локальный минимум - это точка, которая меньше своих соседей), а также вычислить для данного ряда другой ряд, получаемый методом скользящего среднего с размером окна $p$.\n",
    "<h1>Примечание: метод скользящего среднего подразумевает нахождение среднего из подмножетсва ряда размером $p$"
   ]
  },
  {
   "cell_type": "code",
   "execution_count": 43,
   "metadata": {
    "id": "Zb9mIVge5MMt"
   },
   "outputs": [
    {
     "name": "stdout",
     "output_type": "stream",
     "text": [
      "Среднее: 0.483, Дисперсия: 0.082, СКО: 0.286\n",
      "Локальные максимумы: [0.98499129 0.87104088 0.624102   0.71356197 0.909844   0.89565428\n",
      " 0.80314774 0.4581826  0.66559793 0.95566139 0.98696006 0.98720479\n",
      " 0.72008012 0.8299882 ]\n",
      "Локальные минимумы: [0.13978153 0.20879007 0.11479027 0.49764093 0.37029531 0.61935861\n",
      " 0.04916845 0.2119134  0.29126827 0.24691956 0.02534655 0.09581837\n",
      " 0.47050047 0.00883123]\n",
      "Скользящее среднее: [0.48046122 0.50379116 0.41677105 0.46833182 0.5174453  0.52971643\n",
      " 0.56561632 0.51554176 0.49355216 0.56223858 0.60223418 0.60175985\n",
      " 0.67059559 0.60997351 0.58443558 0.57767567 0.50788261 0.53715627\n",
      " 0.55165348 0.49121488 0.51473722 0.47749332 0.49587455 0.51312238\n",
      " 0.47381175 0.43334222 0.43610733 0.43010066 0.46226135 0.44271636\n",
      " 0.36971647 0.39064093 0.34987299 0.39182681 0.45732719 0.50184259\n",
      " 0.56088495 0.5311071  0.44127452 0.43257581 0.4454852 ]\n"
     ]
    },
    {
     "data": {
      "text/plain": [
       "(array([ 1,  6, 10, 13, 15, 18, 21, 23, 27, 29, 31, 37, 43, 45],\n",
       "       dtype=int64),\n",
       " array([ 2,  8, 11, 14, 16, 20, 22, 25, 28, 30, 34, 38, 44, 48],\n",
       "       dtype=int64),\n",
       " array([0.48046122, 0.50379116, 0.41677105, 0.46833182, 0.5174453 ,\n",
       "        0.52971643, 0.56561632, 0.51554176, 0.49355216, 0.56223858,\n",
       "        0.60223418, 0.60175985, 0.67059559, 0.60997351, 0.58443558,\n",
       "        0.57767567, 0.50788261, 0.53715627, 0.55165348, 0.49121488,\n",
       "        0.51473722, 0.47749332, 0.49587455, 0.51312238, 0.47381175,\n",
       "        0.43334222, 0.43610733, 0.43010066, 0.46226135, 0.44271636,\n",
       "        0.36971647, 0.39064093, 0.34987299, 0.39182681, 0.45732719,\n",
       "        0.50184259, 0.56088495, 0.5311071 , 0.44127452, 0.43257581,\n",
       "        0.4454852 ]))"
      ]
     },
     "execution_count": 43,
     "metadata": {},
     "output_type": "execute_result"
    }
   ],
   "source": [
    "def analyze_series(series, window=10):\n",
    "    avg = np.mean(series)\n",
    "    var = np.var(series)\n",
    "    std = np.std(series)\n",
    "\n",
    "    print(f\"Среднее: {avg:.3f}, Дисперсия: {var:.3f}, СКО: {std:.3f}\")\n",
    "\n",
    "    maxima = np.where((series[1:-1] > series[:-2]) & (series[1:-1] > series[2:]))[0] + 1\n",
    "    minima = np.where((series[1:-1] < series[:-2]) & (series[1:-1] < series[2:]))[0] + 1\n",
    "\n",
    "    print(\"Локальные максимумы:\", series[maxima])\n",
    "    print(\"Локальные минимумы:\", series[minima])\n",
    "\n",
    "    moving_avg = np.convolve(series, np.ones(window) / window, mode='valid')\n",
    "    print(\"Скользящее среднее:\", moving_avg)\n",
    "\n",
    "    return maxima, minima, moving_avg\n",
    "\n",
    "\n",
    "ts = np.random.rand(50)\n",
    "analyze_series(ts, window=10)"
   ]
  },
  {
   "cell_type": "markdown",
   "metadata": {
    "id": "jPkylmOX5O9n"
   },
   "source": [
    "<h1> Задача 8. Дан некоторый вектор с целочисленными метками классов, напишите функцию, которая выполняет one-hot-encoding для данного вектора\n",
    "<h1> One-hot-encoding - представление, в котором на месте метки некоторого класса стоит 1, в остальных позициях стоит 0. Например для вектора [0, 2, 3, 0] one-hot-encoding выглядит как: [[1, 0, 0, 0], [0, 0, 1, 0], [0, 0, 0, 1], [1, 0, 0, 0]]"
   ]
  },
  {
   "cell_type": "code",
   "execution_count": 48,
   "metadata": {
    "id": "Y-jlnZvw56lD"
   },
   "outputs": [
    {
     "name": "stdout",
     "output_type": "stream",
     "text": [
      "[[1. 0. 0. 0.]\n",
      " [0. 0. 1. 0.]\n",
      " [0. 0. 0. 1.]\n",
      " [1. 0. 0. 0.]]\n"
     ]
    }
   ],
   "source": [
    "def one_hot(vec):\n",
    "    vec = np.array(vec)\n",
    "    n_classes = np.max(vec) + 1\n",
    "    return np.eye(n_classes)[vec]\n",
    "\n",
    "print( one_hot([0, 2, 3, 0]))"
   ]
  },
  {
   "cell_type": "code",
   "execution_count": null,
   "metadata": {},
   "outputs": [],
   "source": []
  }
 ],
 "metadata": {
  "colab": {
   "provenance": []
  },
  "kernelspec": {
   "display_name": "Python 3 (ipykernel)",
   "language": "python",
   "name": "python3"
  },
  "language_info": {
   "codemirror_mode": {
    "name": "ipython",
    "version": 3
   },
   "file_extension": ".py",
   "mimetype": "text/x-python",
   "name": "python",
   "nbconvert_exporter": "python",
   "pygments_lexer": "ipython3",
   "version": "3.12.7"
  }
 },
 "nbformat": 4,
 "nbformat_minor": 4
}
