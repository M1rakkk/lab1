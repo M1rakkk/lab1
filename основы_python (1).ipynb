{
 "cells": [
  {
   "cell_type": "markdown",
   "metadata": {},
   "source": [
    "# Чижевская Милана РИ-230914"
   ]
  },
  {
   "cell_type": "markdown",
   "metadata": {
    "id": "M-DGa20PaHnu"
   },
   "source": [
    "## Задача 1\n",
    "Написать функцию на вход которой подается строка, состоящая из латинских букв.\n",
    "Функция должна вернуть количество гласных букв (a, e, i, o, u) в этой строке. Написать тесты для кода"
   ]
  },
  {
   "cell_type": "code",
   "execution_count": 66,
   "metadata": {
    "id": "XvX8X_JJ6PCb"
   },
   "outputs": [
    {
     "name": "stdout",
     "output_type": "stream",
     "text": [
      "Тесты для count:\n",
      "  Тест 1:Все тесты пройдены, пожалуйста, поставьте 5 😅! Введено: 'Mila', 'Рeзультат:'2'\n",
      "  Тест 2:Все тесты пройдены, пожалуйста, поставьте 5 😅! Введено: 'AEIOU', 'Рeзультат:'5'\n",
      "  Тест 3:Все тесты пройдены, пожалуйста, поставьте 5 😅! Введено: 'Python', 'Рeзультат:'1'\n",
      "  Тест 4:Все тесты пройдены, пожалуйста, поставьте 5 😅! Введено: 'br', 'Рeзультат:'0'\n"
     ]
    }
   ],
   "source": [
    "def count(s):\n",
    "    return sum(1 for char in s.lower() if char in 'aeiou')\n",
    "\n",
    "\n",
    "def run_tests_count():\n",
    "    test_cases = [\n",
    "        (\"Mila\", 2),\n",
    "        (\"AEIOU\", 5),\n",
    "        (\"Python\", 1),\n",
    "        (\"br\", 0)\n",
    "    ]\n",
    "    print(\"Тесты для count:\")\n",
    "    for i, (input_str, expected) in enumerate(test_cases, 1):\n",
    "        result = count(input_str)\n",
    "        if result == expected:\n",
    "            print(f\"  Тест {i}:Все тесты пройдены, пожалуйста, поставьте 5 😅! Введено: '{input_str}', 'Рeзультат:'{result}'\")\n",
    "        else:\n",
    "            print(f\"  Тест {i}: ❌Что-то пошло не так, только не бейте, пожалуйста 🥺 — '{input_str}' → {result}, ожидалось {expected}\")\n",
    "run_tests_count()"
   ]
  },
  {
   "cell_type": "markdown",
   "metadata": {
    "id": "t2ClV_Y0bbr6"
   },
   "source": [
    "# Задача 2\n",
    "Написать функцию на вход, которой подается строка. Функция должна вернуть true, если\n",
    "каждый символ в строке встречается только 1 раз, иначе должна вернуть false. Написать тесты для кода"
   ]
  },
  {
   "cell_type": "code",
   "execution_count": 67,
   "metadata": {
    "id": "FppbECao6VIz"
   },
   "outputs": [
    {
     "name": "stdout",
     "output_type": "stream",
     "text": [
      "Тесты для unique:\n",
      "  Тест 1:Все тесты пройдены, пожалуйста, поставьте 5 😅! Введено: 'abc', 'Рeзультат:'True'\n",
      "  Тест 2:Все тесты пройдены, пожалуйста, поставьте 5 😅! Введено: 'aabc', 'Рeзультат:'False'\n",
      "  Тест 3:Все тесты пройдены, пожалуйста, поставьте 5 😅! Введено: '1521', 'Рeзультат:'False'\n",
      "  Тест 4:Все тесты пройдены, пожалуйста, поставьте 5 😅! Введено: '1234567890', 'Рeзультат:'True'\n",
      "  Тест 5:Все тесты пройдены, пожалуйста, поставьте 5 😅! Введено: '131313', 'Рeзультат:'False'\n"
     ]
    }
   ],
   "source": [
    "def unique(s):\n",
    "    return len(set(s)) == len(s)\n",
    "\n",
    "def run_tests_unique():\n",
    "    test_cases = [\n",
    "        (\"abc\", True),\n",
    "        (\"aabc\", False),\n",
    "        (\"1521\", False),\n",
    "        (\"1234567890\", True),\n",
    "        (\"131313\", False)\n",
    "    ]\n",
    "    print(\"Тесты для unique:\")\n",
    "    for i, (input_str, expected) in enumerate(test_cases, 1):\n",
    "        result = unique(input_str)\n",
    "        if result == expected:\n",
    "            print(f\"  Тест {i}:Все тесты пройдены, пожалуйста, поставьте 5 😅! Введено: '{input_str}', 'Рeзультат:'{result}'\")\n",
    "        else:\n",
    "            print(f\"  Тест {i}: ❌Что-то пошло не так, только не бейте, пожалуйста 🥺 — '{input_str}' → {result}, ожидалось {expected}\")\n",
    "run_tests_unique()"
   ]
  },
  {
   "cell_type": "markdown",
   "metadata": {
    "id": "udRiIK1cdt6E"
   },
   "source": [
    "# Задача 3\n",
    "Написать функцию, которая принимает положительное число и возвращает количество\n",
    "бит равных 1 в этом числе. Написать тесты для кода"
   ]
  },
  {
   "cell_type": "code",
   "execution_count": 68,
   "metadata": {
    "id": "6tkfDJRz6dp_"
   },
   "outputs": [
    {
     "name": "stdout",
     "output_type": "stream",
     "text": [
      "Тесты для bit:\n",
      "  Тест 1:Все тесты пройдены, пожалуйста, поставьте 5 😅! Введено: '0', 'Рeзультат:'0'\n",
      "  Тест 2:Все тесты пройдены, пожалуйста, поставьте 5 😅! Введено: '7', 'Рeзультат:'3'\n",
      "  Тест 3:Все тесты пройдены, пожалуйста, поставьте 5 😅! Введено: '1023', 'Рeзультат:'10'\n",
      "  Тест 4:Все тесты пройдены, пожалуйста, поставьте 5 😅! Введено: '255', 'Рeзультат:'8'\n"
     ]
    }
   ],
   "source": [
    "def bit(n):\n",
    "    return bin(n).count(\"1\")\n",
    "\n",
    "def run_tests_bit():\n",
    "    test_cases = [\n",
    "        (0, 0),\n",
    "        (7, 3),\n",
    "        (1023, 10),\n",
    "        (255, 8)\n",
    "    ]\n",
    "    print(\"Тесты для bit:\")\n",
    "    for i, (input_n, expected) in enumerate(test_cases, 1):\n",
    "        result = bit(input_n)\n",
    "        if result == expected:\n",
    "            print(f\"  Тест {i}:Все тесты пройдены, пожалуйста, поставьте 5 😅! Введено: '{input_n}', 'Рeзультат:'{result}'\")\n",
    "        else:\n",
    "            print(f\"  Тест {i}: ❌Что-то пошло не так, только не бейте, пожалуйста 🥺 — '{input_str}' → {result}, ожидалось {expected}\")\n",
    "run_tests_bit()"
   ]
  },
  {
   "cell_type": "markdown",
   "metadata": {
    "id": "26dDUz-Ae17N"
   },
   "source": [
    "## Задача 4\n",
    "Написать функцию, которая принимает положительное число. Функция должна вернуть то,\n",
    "сколько раз необходимо перемножать цифры числа или результат перемножения, чтобы\n",
    "получилось число состоящее из одной цифры.\n",
    "Например, для входного числа:\n",
    "· 39 функция должна вернуть 3, так как 3*9=27 => 2*7=14 => 1*4=4\n",
    "· 4 функция должна вернуть 0, так как число уже состоит из одной цифры\n",
    "· 999 функция должна вернуть 4, так как 9*9*9=729 => 7*2*9=126 => 1*2*6=12 =>\n",
    "1*2=2. Написать тесты для кода"
   ]
  },
  {
   "cell_type": "code",
   "execution_count": 69,
   "metadata": {
    "id": "BH1A_Mgi6i4G"
   },
   "outputs": [
    {
     "name": "stdout",
     "output_type": "stream",
     "text": [
      "Тесты для zifer:\n",
      "  Тест 1:Все тесты пройдены, пожалуйста, поставьте 5 😅! Введено: '39', 'Рeзультат:'3'\n",
      "  Тест 2:Все тесты пройдены, пожалуйста, поставьте 5 😅! Введено: '4', 'Рeзультат:'0'\n",
      "  Тест 3:Все тесты пройдены, пожалуйста, поставьте 5 😅! Введено: '999', 'Рeзультат:'4'\n",
      "  Тест 4:Все тесты пройдены, пожалуйста, поставьте 5 😅! Введено: '25', 'Рeзультат:'2'\n"
     ]
    }
   ],
   "source": [
    "def zifer(n):\n",
    "    count = 0\n",
    "    while n >= 10:\n",
    "        prod = 1\n",
    "        for digit in str(n):\n",
    "            prod *= int(digit)\n",
    "        n = prod\n",
    "        count += 1\n",
    "    return count\n",
    "\n",
    "def run_tests_zifer():\n",
    "    test_cases = [\n",
    "        (39, 3),\n",
    "        (4, 0),\n",
    "        (999, 4),\n",
    "        (25, 2)\n",
    "    ]\n",
    "    print(\"Тесты для zifer:\")\n",
    "    for i, (input_n, expected) in enumerate(test_cases, 1):\n",
    "        result = zifer(input_n)\n",
    "        if result == expected:\n",
    "            print(f\"  Тест {i}:Все тесты пройдены, пожалуйста, поставьте 5 😅! Введено: '{input_n}', 'Рeзультат:'{result}'\")\n",
    "        else:\n",
    "            print(f\"  Тест {i}: ❌Что-то пошло не так, только не бейте, пожалуйста 🥺 — '{input_str}' → {result}, ожидалось {expected}\")\n",
    "run_tests_zifer()"
   ]
  },
  {
   "cell_type": "markdown",
   "metadata": {
    "id": "0nS-kIa8g8vd"
   },
   "source": [
    "## Задача 5\n",
    "Написать функцию, которая принимает два целочисленных вектора одинаковой длины и\n",
    "возвращает среднеквадратическое отклонение двух векторов. Написать тесты для кода"
   ]
  },
  {
   "cell_type": "code",
   "execution_count": 75,
   "metadata": {
    "id": "8iphx4LM6xbx"
   },
   "outputs": [
    {
     "name": "stdout",
     "output_type": "stream",
     "text": [
      "Тесты для vector:\n",
      "  Тест 1:Все тесты пройдены, пожалуйста, поставьте 5 😅! Введено: '[1, 2, 3]';'[2, 2, 2]', 'Рeзультат:'0.6666666666666666'\n",
      "  Тест 2:Все тесты пройдены, пожалуйста, поставьте 5 😅! Введено: '[1, 2, 3]';'[1, 1]', 'Рeзультат:'0.3333333333333333'\n",
      "  Тест 3:Все тесты пройдены, пожалуйста, поставьте 5 😅! Введено: '[1, 1]';'[1, 1]', 'Рeзультат:'0.0'\n"
     ]
    }
   ],
   "source": [
    "def vector(pred, true):\n",
    "    return sum((p - t) ** 2 for p, t in zip(pred, true)) / len(pred)\n",
    "\n",
    "def run_tests_vector():\n",
    "    test_cases = [\n",
    "        ([1, 2, 3], [2, 2, 2], 0.6666666666666666),\n",
    "        ([1, 2, 3], [1, 1], 0.3333333333333333),\n",
    "        ([1, 1], [1, 1], 0),\n",
    "    ]\n",
    "    print(\"Тесты для vector:\")\n",
    "    for i, (pred, true, expected) in enumerate(test_cases, 1):\n",
    "        result = vector(pred, true)\n",
    "        if abs(result - expected) < 1e-9:\n",
    "            print(f\"  Тест {i}:Все тесты пройдены, пожалуйста, поставьте 5 😅! Введено: '{pred}';'{true}', 'Рeзультат:'{result}'\")\n",
    "        else:\n",
    "            print(f\"  Тест {i}: ❌Что-то пошло не так, только не бейте, пожалуйста 🥺 — '{pred}';'{true}', → {result}, ожидалось {expected}\")\n",
    "run_tests_vector()"
   ]
  },
  {
   "cell_type": "markdown",
   "metadata": {
    "id": "vpIPKL439zkw"
   },
   "source": [
    "# Задача 6\n",
    "Написать функцию, принимающая целое положительное число. Функция должна вернуть\n",
    "строку вида “(n1**p1)(n2**p2)…(nk**pk)” представляющая разложение числа на простые\n",
    "множители (если pi == 1, то выводить только ni).\n",
    "Например, для числа 86240 функция должна вернуть “(2**5)(5)(7**2)(11)”. Написать тесты для кода"
   ]
  },
  {
   "cell_type": "code",
   "execution_count": 76,
   "metadata": {
    "id": "pFebmcZk94Jw"
   },
   "outputs": [
    {
     "name": "stdout",
     "output_type": "stream",
     "text": [
      "Тесты для f1:\n",
      "  Тест 1:Все тесты пройдены, пожалуйста, поставьте 5 😅! Введено: '86240', 'Рeзультат:'(2**5)(5)(7**2)(11)'\n",
      "  Тест 2:Все тесты пройдены, пожалуйста, поставьте 5 😅! Введено: '17', 'Рeзультат:'(17)'\n",
      "  Тест 3:Все тесты пройдены, пожалуйста, поставьте 5 😅! Введено: '100', 'Рeзультат:'(2**2)(5**2)'\n",
      "  Тест 4:Все тесты пройдены, пожалуйста, поставьте 5 😅! Введено: '1', 'Рeзультат:''\n"
     ]
    }
   ],
   "source": [
    "def f1(n):\n",
    "    i = 2\n",
    "    factors = {}\n",
    "    while i * i <= n:\n",
    "        while n % i == 0:\n",
    "            factors[i] = factors.get(i, 0) + 1\n",
    "            n //= i\n",
    "        i += 1\n",
    "    if n > 1:\n",
    "        factors[n] = factors.get(n, 0) + 1\n",
    "    return ''.join(f'({p}**{e})' if e > 1 else f'({p})' for p, e in factors.items())\n",
    "\n",
    "def run_tests_f1():\n",
    "    test_cases = [\n",
    "        (86240, \"(2**5)(5)(7**2)(11)\"),\n",
    "        (17, \"(17)\"),\n",
    "        (100, \"(2**2)(5**2)\"),\n",
    "        (1, \"\")\n",
    "    ]\n",
    "    print(\"Тесты для f1:\")\n",
    "    for i, (n, expected) in enumerate(test_cases, 1):\n",
    "        result = f1(n)\n",
    "        if result == expected:\n",
    "            print(f\"  Тест {i}:Все тесты пройдены, пожалуйста, поставьте 5 😅! Введено: '{n}', 'Рeзультат:'{result}'\")\n",
    "        else:\n",
    "            print(f\"  Тест {i}: ❌Что-то пошло не так, только не бейте, пожалуйста 🥺 — '{n}', → {result}, ожидалось {expected}\")\n",
    "run_tests_f1()"
   ]
  },
  {
   "cell_type": "markdown",
   "metadata": {
    "id": "ps2s0BudX7A2"
   },
   "source": [
    "## Задача 7\n",
    "Написать функцию, принимающая целое число n, задающее количество кубиков. Функция\n",
    "должна определить, можно ли из данного кол-ва кубиков построить пирамиду, то есть\n",
    "можно ли представить число n как 1^2+2^2+3^2+…+k^2. Если можно, то функция должна\n",
    "вернуть k, иначе строку “It is impossible”. Написать тесты для кода"
   ]
  },
  {
   "cell_type": "code",
   "execution_count": 77,
   "metadata": {
    "id": "3YPjEXxhX_YT"
   },
   "outputs": [
    {
     "name": "stdout",
     "output_type": "stream",
     "text": [
      "Тесты для pyramid:\n",
      "  Тест 1:Все тесты пройдены, пожалуйста, поставьте 5 😅! Введено: '14', 'Рeзультат:'3'\n",
      "  Тест 2:Все тесты пройдены, пожалуйста, поставьте 5 😅! Введено: '30', 'Рeзультат:'4'\n",
      "  Тест 3:Все тесты пройдены, пожалуйста, поставьте 5 😅! Введено: '1', 'Рeзультат:'1'\n"
     ]
    }
   ],
   "source": [
    "def pyramid(n):\n",
    "    k = 0\n",
    "    total = 0\n",
    "    while total < n:\n",
    "        k += 1\n",
    "        total += k**2\n",
    "    return k if total == n else \"It is impossible\"\n",
    "\n",
    "def run_tests_pyramid():\n",
    "    test_cases = [\n",
    "        (14, 3),  # 1^2 + 2^2 + 3^2 = 14\n",
    "        (30, 4),\n",
    "        (1, 1)\n",
    "    ]\n",
    "    print(\"Тесты для pyramid:\")\n",
    "    for i, (n, expected) in enumerate(test_cases, 1):\n",
    "        result = pyramid(n)\n",
    "        if result == expected:\n",
    "            print(f\"  Тест {i}:Все тесты пройдены, пожалуйста, поставьте 5 😅! Введено: '{n}', 'Рeзультат:'{result}'\")\n",
    "        else:\n",
    "            print(f\"  Тест {i}: ❌Что-то пошло не так, только не бейте, пожалуйста 🥺 — '{n}', → {result}, ожидалось {expected}\")\n",
    "run_tests_pyramid()"
   ]
  },
  {
   "cell_type": "markdown",
   "metadata": {
    "id": "KeKgmIdAQMEJ"
   },
   "source": [
    "## Задача 8\n",
    "Функция принимает на вход положительное число и определяет является ли оно сбалансированным, т.е. сумма цифр до средних равна сумме цифр после. Средними в случае нечетного числа цифр считать одну цифру, в случае четного - две средних. Написать тесты для кода"
   ]
  },
  {
   "cell_type": "code",
   "execution_count": 79,
   "metadata": {
    "id": "gMAAqtqlQrZt"
   },
   "outputs": [
    {
     "name": "stdout",
     "output_type": "stream",
     "text": [
      "Тесты для balanc:\n",
      "  Тест 1:Все тесты пройдены, пожалуйста, поставьте 5 😅! Введено: '1234006', 'Рeзультат:'True'\n",
      "  Тест 2:Все тесты пройдены, пожалуйста, поставьте 5 😅! Введено: '123456', 'Рeзультат:'False'\n",
      "  Тест 3:Все тесты пройдены, пожалуйста, поставьте 5 😅! Введено: '5', 'Рeзультат:'True'\n",
      "  Тест 4:Все тесты пройдены, пожалуйста, поставьте 5 😅! Введено: '123321', 'Рeзультат:'True'\n"
     ]
    }
   ],
   "source": [
    "def balanc(n):\n",
    "    s = str(n)\n",
    "    l = len(s)\n",
    "    if l < 3:\n",
    "        return True\n",
    "    mid = l // 2\n",
    "    if l % 2 == 0:\n",
    "        left = s[:mid - 1]\n",
    "        right = s[mid + 1:]\n",
    "    else:\n",
    "        left = s[:mid]\n",
    "        right = s[mid + 1:]\n",
    "    return sum(map(int, left)) == sum(map(int, right))\n",
    "\n",
    "def run_tests_balanc():\n",
    "    test_cases = [\n",
    "        (1234006, True),\n",
    "        (123456, False),\n",
    "        (5, True),\n",
    "        (123321, True)\n",
    "    ]\n",
    "    print(\"Тесты для balanc:\")\n",
    "    for i, (n, expected) in enumerate(test_cases, 1):\n",
    "        result = balanc(n)\n",
    "        if result == expected:\n",
    "            print(f\"  Тест {i}:Все тесты пройдены, пожалуйста, поставьте 5 😅! Введено: '{n}', 'Рeзультат:'{result}'\")\n",
    "        else:\n",
    "            print(f\"  Тест {i}: ❌Что-то пошло не так, только не бейте, пожалуйста 🥺 — '{n}', → {result}, ожидалось {expected}\")\n",
    "run_tests_balanc()"
   ]
  },
  {
   "cell_type": "code",
   "execution_count": null,
   "metadata": {},
   "outputs": [],
   "source": []
  }
 ],
 "metadata": {
  "colab": {
   "provenance": []
  },
  "kernelspec": {
   "display_name": "Python 3 (ipykernel)",
   "language": "python",
   "name": "python3"
  },
  "language_info": {
   "codemirror_mode": {
    "name": "ipython",
    "version": 3
   },
   "file_extension": ".py",
   "mimetype": "text/x-python",
   "name": "python",
   "nbconvert_exporter": "python",
   "pygments_lexer": "ipython3",
   "version": "3.12.7"
  }
 },
 "nbformat": 4,
 "nbformat_minor": 4
}
